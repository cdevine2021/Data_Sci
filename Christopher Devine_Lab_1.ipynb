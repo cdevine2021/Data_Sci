{
  "nbformat": 4,
  "nbformat_minor": 0,
  "metadata": {
    "colab": {
      "provenance": [],
      "authorship_tag": "ABX9TyMEzitjjTqqB1HUrf0QFaMC",
      "include_colab_link": true
    },
    "kernelspec": {
      "name": "python3",
      "display_name": "Python 3"
    },
    "language_info": {
      "name": "python"
    }
  },
  "cells": [
    {
      "cell_type": "markdown",
      "metadata": {
        "id": "view-in-github",
        "colab_type": "text"
      },
      "source": [
        "<a href=\"https://colab.research.google.com/github/cdevine2021/Data_Sci/blob/main/Christopher%20Devine_Lab_1.ipynb\" target=\"_parent\"><img src=\"https://colab.research.google.com/assets/colab-badge.svg\" alt=\"Open In Colab\"/></a>"
      ]
    },
    {
      "cell_type": "markdown",
      "source": [
        "# Lab #1 Notebook"
      ],
      "metadata": {
        "id": "xsRGr2SRw8_R"
      }
    },
    {
      "cell_type": "code",
      "source": [
        "2+2\n",
        "#simple addition to lay the ground work and see the principle."
      ],
      "metadata": {
        "colab": {
          "base_uri": "https://localhost:8080/"
        },
        "id": "wUzMetb1w8ML",
        "outputId": "446957eb-3102-49d5-ea8f-373e229f58ba"
      },
      "execution_count": null,
      "outputs": [
        {
          "output_type": "execute_result",
          "data": {
            "text/plain": [
              "4"
            ]
          },
          "metadata": {},
          "execution_count": 39
        }
      ]
    },
    {
      "cell_type": "code",
      "source": [
        "2*24\n",
        "#we use the asterisk to symbolize multiplication."
      ],
      "metadata": {
        "colab": {
          "base_uri": "https://localhost:8080/"
        },
        "id": "dqp5POwZxNwJ",
        "outputId": "4f60da57-7728-444f-eb1e-c5d02bbbdfa5"
      },
      "execution_count": null,
      "outputs": [
        {
          "output_type": "execute_result",
          "data": {
            "text/plain": [
              "48"
            ]
          },
          "metadata": {},
          "execution_count": 38
        }
      ]
    },
    {
      "cell_type": "code",
      "source": [
        "2**8\n",
        "# we use two asterisk's to symbolize putting numbers to the power of other numbers."
      ],
      "metadata": {
        "colab": {
          "base_uri": "https://localhost:8080/"
        },
        "id": "A53WjlXuw8Oq",
        "outputId": "cfb99208-d68c-41f8-c230-6bbf455a36f0"
      },
      "execution_count": null,
      "outputs": [
        {
          "output_type": "execute_result",
          "data": {
            "text/plain": [
              "256"
            ]
          },
          "metadata": {},
          "execution_count": 40
        }
      ]
    },
    {
      "cell_type": "code",
      "source": [
        "2**12345\n",
        "# ssame thing with two asterisk's just with a larger number."
      ],
      "metadata": {
        "colab": {
          "base_uri": "https://localhost:8080/"
        },
        "id": "uJPkYgrtw8Q4",
        "outputId": "7cd984fb-934a-4cb4-dd9f-0ce3bd83a6b3"
      },
      "execution_count": null,
      "outputs": [
        {
          "output_type": "execute_result",
          "data": {
            "text/plain": [
              "164171010688258216356020741663906501410127235530735881272116103087925094171390144280159034536439457734870419127140401667195510331085657185332721089236401193044493457116299768844344303479235489462436380672117015123283299131391904179287678259173308536738761981139958654880852234908448338817289014166774169869251339379828599748492918775437864739032217778051333882990074116246281269364933724892342134504702491040016637557429810893780765197418589477584716543480995722533317862352141459217781316266211186486157019262080414077670264642736018426998113523445732680856144329876972273300703392584997729207197971083945700345494092400147186997307012069454068489589035676979448169848060836924945824197706493306108258511936030341393221586423523264452449403781993352421885094664052270795527632721896121424813173522474674395886155092203404036730748474781710715745446135468098139831824083259647919175273503681561172684624283384438504776503000432241604550454374116320822227191911322123484085063926350606342197146407841178028071147192533942517270553513988142925976090769695456221159699052583533011331652079347093098173086975483539274464023357456484465482927479569437320368592222760278170306076733438801098370797675711274671054970711442158930561684343135774118741594506702833147396758825015850042983343690345185995956235143825771620543546030664562647854656431302644574119873820215595718618624485232422006575550007068883734241454686368856734496265385908809403972494685137741122866896719678053937285818409751670320140501843039224040735870096889596273419106389103662095318937990625980136711988237421962315266686856089505981438440850638067589321141759499017023839596858455548192000140085142294166987063499024792681334843159790936321351919859758669569200541507612099780909705198902176026219872201715422096090343686272984351441594569506778041062663266799342793856313801540959815845788584759033248828248561586450271172777240971795656082001848115815260930521663167480173886064019118572778281516735157779555888167787064432558595410843987446497881666288423233170060413025924629950477303342180149398926073618582715358742250388958231281694757980523791263699450732952325727664209947786063982561775327638504516918570101319391698412388607603742484414748268389669129118026878969735782286841116842656410574647607524418900720328045377993386279808768990376289424757351052369393977137871998119168898493037938756635621557623138404459266598837784229325799838782026060481496865561757031839002257091802876949248392744175669112242088439883248336310597001257385980776961529351198877747193531054956881808332177946751404038228718567911769630971553915410012677600002457982207465176670752102117002773980548089696530972476439694599881281812973217265853884727906535479745854085338851105144585481994156206497436745899944877732531412541279014300324594890623941145509856940982863769834430048120562966797907114102689879364945689860493474954538422367719507882513166051007352994068319251450666676648368200564329382998758875760414259654004977261309988267319806354856051784553990936610634733375984159028722378614984450255386315585631994503350002142910493190254825610707400589976364985748467955131077971641882672895854571236368282811336220769174784720113331269084746524204124263475054112841630933586166195036115696469686075600480420563557567616835633252622327172811002146392754445051182169805284630259703542633955126179520113059629914229833688535925729676778028406897316106101038469119090984567152591962365415039646394591503830797626339246986057077758611413664914168745375266786298141171496573941614387744125843685677063619782918759823106021054037757857761587472240835040580447360544029064930412569943169729238102162312218687930203068055400275795180972382856696655279408212344832"
            ]
          },
          "metadata": {},
          "execution_count": 41
        }
      ]
    },
    {
      "cell_type": "code",
      "source": [
        "4.7876 + 9.87654\n",
        "# just adddition with decimals "
      ],
      "metadata": {
        "colab": {
          "base_uri": "https://localhost:8080/"
        },
        "id": "BIIPisrixhIR",
        "outputId": "4443fae3-9aa9-4547-ef02-0733e99da4fd"
      },
      "execution_count": null,
      "outputs": [
        {
          "output_type": "execute_result",
          "data": {
            "text/plain": [
              "14.66414"
            ]
          },
          "metadata": {},
          "execution_count": 5
        }
      ]
    },
    {
      "cell_type": "code",
      "source": [
        "4.7876 * 9.87654\n",
        "# multiplication with decimals."
      ],
      "metadata": {
        "colab": {
          "base_uri": "https://localhost:8080/"
        },
        "id": "pZ6m142Xxs9C",
        "outputId": "98452b53-829c-45f5-9964-6d60b5ca2fc0"
      },
      "execution_count": null,
      "outputs": [
        {
          "output_type": "execute_result",
          "data": {
            "text/plain": [
              "47.284922904000005"
            ]
          },
          "metadata": {},
          "execution_count": 42
        }
      ]
    },
    {
      "cell_type": "code",
      "source": [
        "4.7876 / 9.87654\n",
        "# we use the slash to symbolize division here."
      ],
      "metadata": {
        "colab": {
          "base_uri": "https://localhost:8080/"
        },
        "id": "ZjkeWd-Zxs_K",
        "outputId": "7b098c21-59b7-4f83-a5de-518b7f186434"
      },
      "execution_count": null,
      "outputs": [
        {
          "output_type": "execute_result",
          "data": {
            "text/plain": [
              "0.48474465754201373"
            ]
          },
          "metadata": {},
          "execution_count": 36
        }
      ]
    },
    {
      "cell_type": "code",
      "source": [
        "# This is a comment"
      ],
      "metadata": {
        "id": "2qu1jZpkx3Nq"
      },
      "execution_count": null,
      "outputs": []
    },
    {
      "cell_type": "code",
      "source": [
        "8/4\n",
        "# just simple division. but with one slash you get a decimal."
      ],
      "metadata": {
        "colab": {
          "base_uri": "https://localhost:8080/"
        },
        "id": "ZXuDUB9jx6gK",
        "outputId": "af4ce8de-e784-4176-f8c8-231feaa8c4f0"
      },
      "execution_count": null,
      "outputs": [
        {
          "output_type": "execute_result",
          "data": {
            "text/plain": [
              "2.0"
            ]
          },
          "metadata": {},
          "execution_count": 44
        }
      ]
    },
    {
      "cell_type": "code",
      "source": [
        "8//4\n",
        "# simple division again but with two slashes that give you just an integer as the answer, no decimals."
      ],
      "metadata": {
        "colab": {
          "base_uri": "https://localhost:8080/"
        },
        "id": "tODXb1uOx6lh",
        "outputId": "b17408ab-4b09-428c-889a-5f28f3b05ff5"
      },
      "execution_count": null,
      "outputs": [
        {
          "output_type": "execute_result",
          "data": {
            "text/plain": [
              "2"
            ]
          },
          "metadata": {},
          "execution_count": 45
        }
      ]
    },
    {
      "cell_type": "code",
      "source": [
        "13%12"
      ],
      "metadata": {
        "colab": {
          "base_uri": "https://localhost:8080/"
        },
        "id": "6J7qvIywx-xK",
        "outputId": "e0e640b8-b00d-44b4-e0ce-fdc2cfbc3bb0"
      },
      "execution_count": null,
      "outputs": [
        {
          "output_type": "execute_result",
          "data": {
            "text/plain": [
              "1"
            ]
          },
          "metadata": {},
          "execution_count": 48
        }
      ]
    },
    {
      "cell_type": "code",
      "source": [
        "22%12"
      ],
      "metadata": {
        "colab": {
          "base_uri": "https://localhost:8080/"
        },
        "id": "VrNQCoeTx-3C",
        "outputId": "8d6b7650-bffb-4a8f-f40c-56684b653551"
      },
      "execution_count": null,
      "outputs": [
        {
          "output_type": "execute_result",
          "data": {
            "text/plain": [
              "10"
            ]
          },
          "metadata": {},
          "execution_count": 41
        }
      ]
    },
    {
      "cell_type": "markdown",
      "source": [
        "#Variables"
      ],
      "metadata": {
        "id": "ztLuXYYwyVUZ"
      }
    },
    {
      "cell_type": "code",
      "source": [
        "apples = 5\n",
        "# we can assign anything with a different meaning. so in this case we assigned apples with the factor of 5."
      ],
      "metadata": {
        "id": "Q6l5Oe-HyOSJ"
      },
      "execution_count": null,
      "outputs": []
    },
    {
      "cell_type": "code",
      "source": [
        "apples\n",
        "# since we assigned apples with the factor of 5, just typing apples in will give you the result of it equaling 5."
      ],
      "metadata": {
        "colab": {
          "base_uri": "https://localhost:8080/"
        },
        "id": "pHMHFuYKyOUh",
        "outputId": "d88bd866-0c8c-40c0-fe40-37d9effcc224"
      },
      "execution_count": null,
      "outputs": [
        {
          "output_type": "execute_result",
          "data": {
            "text/plain": [
              "5"
            ]
          },
          "metadata": {},
          "execution_count": 50
        }
      ]
    },
    {
      "cell_type": "code",
      "source": [
        "oranges = 8\n",
        "#here we assigned oranges withthe factor of 8."
      ],
      "metadata": {
        "id": "XM3nUhhdyOWp"
      },
      "execution_count": null,
      "outputs": []
    },
    {
      "cell_type": "code",
      "source": [
        "apples + oranges\n",
        "#Since we assigned apples with a factor of 5 and oranges with a factor of 8, adding them togehter equals 13."
      ],
      "metadata": {
        "colab": {
          "base_uri": "https://localhost:8080/"
        },
        "id": "rSFQNCX1yOcp",
        "outputId": "2682cd3d-27ad-46bb-b257-54901262dd5d"
      },
      "execution_count": null,
      "outputs": [
        {
          "output_type": "execute_result",
          "data": {
            "text/plain": [
              "13"
            ]
          },
          "metadata": {},
          "execution_count": 52
        }
      ]
    },
    {
      "cell_type": "code",
      "source": [
        "total = apples + oranges\n",
        "#Total is assigned as the result of apples and oranges which is 13, so total has a value of 13."
      ],
      "metadata": {
        "id": "hwNlG6Pry0SC"
      },
      "execution_count": null,
      "outputs": []
    },
    {
      "cell_type": "code",
      "source": [
        "total\n",
        "#total is equal to apples plus oranges; 13."
      ],
      "metadata": {
        "colab": {
          "base_uri": "https://localhost:8080/"
        },
        "id": "_pn8rdP5y0XC",
        "outputId": "448e182d-d6fa-453a-89bc-b14e7d067a91"
      },
      "execution_count": null,
      "outputs": [
        {
          "output_type": "execute_result",
          "data": {
            "text/plain": [
              "13"
            ]
          },
          "metadata": {},
          "execution_count": 54
        }
      ]
    },
    {
      "cell_type": "code",
      "source": [
        "apples**2\n",
        "# apples which is 5 is squared here so 25 is our result."
      ],
      "metadata": {
        "colab": {
          "base_uri": "https://localhost:8080/"
        },
        "id": "UUoya6B2y0Zi",
        "outputId": "549b710a-343b-40b9-9166-4d23c9704415"
      },
      "execution_count": null,
      "outputs": [
        {
          "output_type": "execute_result",
          "data": {
            "text/plain": [
              "25"
            ]
          },
          "metadata": {},
          "execution_count": 55
        }
      ]
    },
    {
      "cell_type": "code",
      "source": [
        "cost_per_apple =0.25\n",
        "# here we assigned 0.25 cents to the cost of each apple."
      ],
      "metadata": {
        "id": "pTAQ_ZeDy0b6"
      },
      "execution_count": null,
      "outputs": []
    },
    {
      "cell_type": "code",
      "source": [
        "total_apples_cost = apples *cost_per_apple\n",
        "# the total cost of apples here is equal to apples(5) times the cost per apple(0.25)"
      ],
      "metadata": {
        "id": "Zs3Ok04Sy0ds"
      },
      "execution_count": null,
      "outputs": []
    },
    {
      "cell_type": "code",
      "source": [
        "total_apples_cost\n",
        "# apples times cost per apple."
      ],
      "metadata": {
        "colab": {
          "base_uri": "https://localhost:8080/"
        },
        "id": "DhHe_Gtr0Stk",
        "outputId": "4de0a118-4160-47b3-a503-27bb1781e8b9"
      },
      "execution_count": null,
      "outputs": [
        {
          "output_type": "execute_result",
          "data": {
            "text/plain": [
              "1.25"
            ]
          },
          "metadata": {},
          "execution_count": 58
        }
      ]
    },
    {
      "cell_type": "code",
      "source": [
        "shirt_cost =25\n",
        "# assigning shirts the cost of 25."
      ],
      "metadata": {
        "id": "8w45msy90XWK"
      },
      "execution_count": null,
      "outputs": []
    },
    {
      "cell_type": "code",
      "source": [
        "pants_cost = 45\n",
        "# assigning pants the cost of 45."
      ],
      "metadata": {
        "id": "VJJQmHFh0XYj"
      },
      "execution_count": null,
      "outputs": []
    },
    {
      "cell_type": "code",
      "source": [
        "shoes_cost = 90\n",
        "# assigning shoes the cost of 90."
      ],
      "metadata": {
        "id": "dEtYIf5R0XbK"
      },
      "execution_count": null,
      "outputs": []
    },
    {
      "cell_type": "code",
      "source": [
        "shirts_sold =12\n",
        "# 12 shirts will be or are sold."
      ],
      "metadata": {
        "id": "QMTeGMGM0Xfz"
      },
      "execution_count": null,
      "outputs": []
    },
    {
      "cell_type": "code",
      "source": [
        "pants_sold =15\n",
        "# 15 pants will be or are sold."
      ],
      "metadata": {
        "id": "AZ2dZ_em0Xj-"
      },
      "execution_count": null,
      "outputs": []
    },
    {
      "cell_type": "code",
      "source": [
        "shoes_sold = 7\n",
        "# 7 shoes will be or are sold."
      ],
      "metadata": {
        "id": "H43cy5qP0Xmr"
      },
      "execution_count": null,
      "outputs": []
    },
    {
      "cell_type": "code",
      "source": [
        "total_sales = (shirt_cost * shirts_sold) + (pants_sold * pants_cost) + (shoes_cost * shoes_sold)\n",
        "# just a long math equation but instead of number we use the words we assigned to the numbers and we get the total result."
      ],
      "metadata": {
        "id": "dh_zBZeT0Xoz"
      },
      "execution_count": null,
      "outputs": []
    },
    {
      "cell_type": "code",
      "source": [
        "total_sales #note this amount is in dollars\n",
        "#this total sales is the product of the equation in the last code."
      ],
      "metadata": {
        "colab": {
          "base_uri": "https://localhost:8080/"
        },
        "id": "XPmu0Vy_1EBc",
        "outputId": "8fef4bae-feda-47d8-ed1f-253d9f921f61"
      },
      "execution_count": null,
      "outputs": [
        {
          "output_type": "execute_result",
          "data": {
            "text/plain": [
              "1605"
            ]
          },
          "metadata": {},
          "execution_count": 67
        }
      ]
    },
    {
      "cell_type": "markdown",
      "source": [
        "# Vectors"
      ],
      "metadata": {
        "id": "Otnbyfrx2fA8"
      }
    },
    {
      "cell_type": "code",
      "source": [
        "import numpy as np\n",
        "# we are using the import function and importing np."
      ],
      "metadata": {
        "id": "DpM1KmLX1MvE"
      },
      "execution_count": null,
      "outputs": []
    },
    {
      "cell_type": "code",
      "source": [
        "import matplotlib.pyplot as plt\n",
        "#another import function but we are importing a plot/graph as plt."
      ],
      "metadata": {
        "id": "35QiG94Z1Mza"
      },
      "execution_count": null,
      "outputs": []
    },
    {
      "cell_type": "code",
      "source": [
        "np.arange(10)\n",
        "# this function tells the programm to give us a set of 10 numbers. starting with 0."
      ],
      "metadata": {
        "id": "qmCvC4Uy1M1S",
        "colab": {
          "base_uri": "https://localhost:8080/"
        },
        "outputId": "f4d25fc5-631a-4726-cd0a-0cc3d6f85494"
      },
      "execution_count": null,
      "outputs": [
        {
          "output_type": "execute_result",
          "data": {
            "text/plain": [
              "array([0, 1, 2, 3, 4, 5, 6, 7, 8, 9])"
            ]
          },
          "metadata": {},
          "execution_count": 68
        }
      ]
    },
    {
      "cell_type": "code",
      "source": [
        "x = np.arange(10)\n",
        "# we are assigning x to the function that gives us a set of 10 numbers."
      ],
      "metadata": {
        "id": "14Jc2mIa1M4C"
      },
      "execution_count": null,
      "outputs": []
    },
    {
      "cell_type": "code",
      "source": [
        "x\n",
        "# x is the set of 10 numbers so we do not have to put anything else but x in the code to get that set."
      ],
      "metadata": {
        "id": "jco7ziMN1M6a",
        "colab": {
          "base_uri": "https://localhost:8080/"
        },
        "outputId": "7ea9bd8b-8998-4ec0-e3c8-fadbc201d16e"
      },
      "execution_count": null,
      "outputs": [
        {
          "output_type": "execute_result",
          "data": {
            "text/plain": [
              "array([0, 1, 2, 3, 4, 5, 6, 7, 8, 9])"
            ]
          },
          "metadata": {},
          "execution_count": 70
        }
      ]
    },
    {
      "cell_type": "code",
      "source": [
        "x + 1\n",
        "# same set of numbers but we are adding one so we start at 1 not 0, and end at 10 not 9."
      ],
      "metadata": {
        "colab": {
          "base_uri": "https://localhost:8080/"
        },
        "id": "y2Alw0Ix4g97",
        "outputId": "5bcfc76f-f702-4ac4-9713-dc3a32459742"
      },
      "execution_count": null,
      "outputs": [
        {
          "output_type": "execute_result",
          "data": {
            "text/plain": [
              "array([ 1,  2,  3,  4,  5,  6,  7,  8,  9, 10])"
            ]
          },
          "metadata": {},
          "execution_count": 71
        }
      ]
    },
    {
      "cell_type": "code",
      "source": [
        "x*2\n",
        "# same set just multiplying every number in the set by 2."
      ],
      "metadata": {
        "colab": {
          "base_uri": "https://localhost:8080/"
        },
        "id": "J9z6lQF24hAj",
        "outputId": "05685dc3-9f16-4ab9-dad2-d5c655a50f63"
      },
      "execution_count": null,
      "outputs": [
        {
          "output_type": "execute_result",
          "data": {
            "text/plain": [
              "array([ 0,  2,  4,  6,  8, 10, 12, 14, 16, 18])"
            ]
          },
          "metadata": {},
          "execution_count": 73
        }
      ]
    },
    {
      "cell_type": "code",
      "source": [
        "x**2\n",
        "# same set to begin with again but we are raising each number by the power of 2."
      ],
      "metadata": {
        "colab": {
          "base_uri": "https://localhost:8080/"
        },
        "id": "qYvpiwxG4hCj",
        "outputId": "c188b5b5-1f87-46f7-f698-ce3419bb1406"
      },
      "execution_count": null,
      "outputs": [
        {
          "output_type": "execute_result",
          "data": {
            "text/plain": [
              "array([ 0,  1,  4,  9, 16, 25, 36, 49, 64, 81])"
            ]
          },
          "metadata": {},
          "execution_count": 72
        }
      ]
    },
    {
      "cell_type": "code",
      "source": [
        "y = 3*x+5\n",
        "# we are assigning y as problem that has x, which is the set of numbers, in the middle of it."
      ],
      "metadata": {
        "id": "8jOOvxSQ1M9S"
      },
      "execution_count": null,
      "outputs": []
    },
    {
      "cell_type": "code",
      "source": [
        "x\n",
        "# set of numbers."
      ],
      "metadata": {
        "id": "lnj4lD2l1M_p",
        "colab": {
          "base_uri": "https://localhost:8080/"
        },
        "outputId": "3fb39633-d891-4e79-acb8-a5035622cd6f"
      },
      "execution_count": null,
      "outputs": [
        {
          "output_type": "execute_result",
          "data": {
            "text/plain": [
              "array([0, 1, 2, 3, 4, 5, 6, 7, 8, 9])"
            ]
          },
          "metadata": {},
          "execution_count": 75
        }
      ]
    },
    {
      "cell_type": "code",
      "source": [
        "y\n",
        "# each number from the set is put into the equation pf 3*x+5 in place of x."
      ],
      "metadata": {
        "id": "Z7iVDdDv1NCp",
        "colab": {
          "base_uri": "https://localhost:8080/"
        },
        "outputId": "07f2167b-a34a-4864-fd6a-ddfe2c79c085"
      },
      "execution_count": null,
      "outputs": [
        {
          "output_type": "execute_result",
          "data": {
            "text/plain": [
              "array([ 5,  8, 11, 14, 17, 20, 23, 26, 29, 32])"
            ]
          },
          "metadata": {},
          "execution_count": 76
        }
      ]
    },
    {
      "cell_type": "code",
      "source": [
        "plt.plot(x,y)\n",
        "# we are taking plt which we made a graph from and using it to plot the points of x and y."
      ],
      "metadata": {
        "id": "R5egKrNV1NE6",
        "colab": {
          "base_uri": "https://localhost:8080/",
          "height": 282
        },
        "outputId": "98d4be0c-66af-4971-a6b6-80324b29be92"
      },
      "execution_count": null,
      "outputs": [
        {
          "output_type": "execute_result",
          "data": {
            "text/plain": [
              "[<matplotlib.lines.Line2D at 0x7fc2323481d0>]"
            ]
          },
          "metadata": {},
          "execution_count": 77
        },
        {
          "output_type": "display_data",
          "data": {
            "text/plain": [
              "<Figure size 432x288 with 1 Axes>"
            ],
            "image/png": "[encoded data removed]"
          },
          "metadata": {
            "needs_background": "light"
          }
        }
      ]
    },
    {
      "cell_type": "code",
      "source": [
        "plt.plot(x,y,'.') # Explain all of this\n",
        "# same graph but instead of a normal line we use the period, ., at our new symbol to tell us where the points are on the graph. \n",
        "# we put the period inside the quotations otherwise it wouldn't work."
      ],
      "metadata": {
        "colab": {
          "base_uri": "https://localhost:8080/",
          "height": 282
        },
        "id": "pxBkOhOf5MZ6",
        "outputId": "b86575a0-a455-4bdc-b937-0b097f106b7b"
      },
      "execution_count": null,
      "outputs": [
        {
          "output_type": "execute_result",
          "data": {
            "text/plain": [
              "[<matplotlib.lines.Line2D at 0x7fc2323192d0>]"
            ]
          },
          "metadata": {},
          "execution_count": 78
        },
        {
          "output_type": "display_data",
          "data": {
            "text/plain": [
              "<Figure size 432x288 with 1 Axes>"
            ],
            "image/png": "[encoded data removed]"
          },
          "metadata": {
            "needs_background": "light"
          }
        }
      ]
    },
    {
      "cell_type": "code",
      "source": [
        "plt.plot(x,y,'r.')\n",
        "# same thing as before with the period but now we are adding a color to it. we put r before the period to desginate the color red to the points."
      ],
      "metadata": {
        "colab": {
          "base_uri": "https://localhost:8080/",
          "height": 282
        },
        "id": "Jo13vq315k27",
        "outputId": "73b0177f-065a-4e6f-bde2-eac2654a2843"
      },
      "execution_count": null,
      "outputs": [
        {
          "output_type": "execute_result",
          "data": {
            "text/plain": [
              "[<matplotlib.lines.Line2D at 0x7fc232281350>]"
            ]
          },
          "metadata": {},
          "execution_count": 79
        },
        {
          "output_type": "display_data",
          "data": {
            "text/plain": [
              "<Figure size 432x288 with 1 Axes>"
            ],
            "image/png": "[encoded data removed]"
          },
          "metadata": {
            "needs_background": "light"
          }
        }
      ]
    },
    {
      "cell_type": "code",
      "source": [
        "plt.plot(x,y,'r--')\n",
        "# same color but now we are changing what our symbol is. we change it from a period to 2 dashes."
      ],
      "metadata": {
        "colab": {
          "base_uri": "https://localhost:8080/",
          "height": 282
        },
        "id": "hVH9ztrN6Dk0",
        "outputId": "b8a31c2b-a399-4183-e8f1-6717aa96b4db"
      },
      "execution_count": null,
      "outputs": [
        {
          "output_type": "execute_result",
          "data": {
            "text/plain": [
              "[<matplotlib.lines.Line2D at 0x7fc2321eb310>]"
            ]
          },
          "metadata": {},
          "execution_count": 80
        },
        {
          "output_type": "display_data",
          "data": {
            "text/plain": [
              "<Figure size 432x288 with 1 Axes>"
            ],
            "image/png": "[encoded data removed]"
          },
          "metadata": {
            "needs_background": "light"
          }
        }
      ]
    },
    {
      "cell_type": "code",
      "source": [
        "plt.plot(x,y,marker ='o',\n",
        "         linestyle = 'None',\n",
        "         markerfacecolor='#28E937')\n",
        "# plotting a graph with o as the symbol for the points. and #28E937 is the color code for that green in the graph."
      ],
      "metadata": {
        "colab": {
          "base_uri": "https://localhost:8080/",
          "height": 282
        },
        "id": "AlbK-rhr6Dn7",
        "outputId": "0eac0c7a-0ff4-49cd-cd37-a2d432827aa3"
      },
      "execution_count": null,
      "outputs": [
        {
          "output_type": "execute_result",
          "data": {
            "text/plain": [
              "[<matplotlib.lines.Line2D at 0x7fc2321d3250>]"
            ]
          },
          "metadata": {},
          "execution_count": 81
        },
        {
          "output_type": "display_data",
          "data": {
            "text/plain": [
              "<Figure size 432x288 with 1 Axes>"
            ],
            "image/png": "[encoded data removed]"
          },
          "metadata": {
            "needs_background": "light"
          }
        }
      ]
    },
    {
      "cell_type": "code",
      "source": [
        "plt.plot(x,y,marker ='o',\n",
        "         linestyle = 'None',\n",
        "         markerfacecolor='#E8E832')\n",
        "# same symbol as the previos graph just different color code with #E8E832 for the yellow."
      ],
      "metadata": {
        "colab": {
          "base_uri": "https://localhost:8080/",
          "height": 282
        },
        "id": "Xhp7JxB06Dqi",
        "outputId": "d4bf8c6b-4579-4ede-ab82-13f3c858c57d"
      },
      "execution_count": null,
      "outputs": [
        {
          "output_type": "execute_result",
          "data": {
            "text/plain": [
              "[<matplotlib.lines.Line2D at 0x7fc233387250>]"
            ]
          },
          "metadata": {},
          "execution_count": 17
        },
        {
          "output_type": "display_data",
          "data": {
            "text/plain": [
              "<Figure size 432x288 with 1 Axes>"
            ],
            "image/png": "[encoded data removed]"
          },
          "metadata": {
            "needs_background": "light"
          }
        }
      ]
    },
    {
      "cell_type": "code",
      "source": [
        "x = np.linspace(0,5,10)\n",
        "#telling the computer that we want the starting number to be 0 and ending with 5 and we want 10 numbers in between, and all of that set equals x."
      ],
      "metadata": {
        "id": "E5SN1kyw6Dss"
      },
      "execution_count": null,
      "outputs": []
    },
    {
      "cell_type": "code",
      "source": [
        "x\n",
        "# x is equal to the set we just made in the previous code above."
      ],
      "metadata": {
        "colab": {
          "base_uri": "https://localhost:8080/"
        },
        "id": "PoxG3U3p6DvG",
        "outputId": "58dc3379-385e-42e4-915c-f0df7f4f4701"
      },
      "execution_count": null,
      "outputs": [
        {
          "output_type": "execute_result",
          "data": {
            "text/plain": [
              "array([0.        , 0.55555556, 1.11111111, 1.66666667, 2.22222222,\n",
              "       2.77777778, 3.33333333, 3.88888889, 4.44444444, 5.        ])"
            ]
          },
          "metadata": {},
          "execution_count": 83
        }
      ]
    },
    {
      "cell_type": "code",
      "source": [
        "x = np.linspace(0,10,100)\n",
        "# now we are saying that we want the set to start with 0 and end with 10 but we want 100 numbers in between. and we want all of that to equal x."
      ],
      "metadata": {
        "id": "ZQgpQbIf6Dyb"
      },
      "execution_count": null,
      "outputs": []
    },
    {
      "cell_type": "code",
      "source": [
        "y =x**2\n",
        "# y is equal to all the numbers in the set, which is x, raised to the power of 2."
      ],
      "metadata": {
        "id": "RTC6u-rr6D01"
      },
      "execution_count": null,
      "outputs": []
    },
    {
      "cell_type": "code",
      "source": [
        "plt.plot(x,y,marker = 'o',\n",
        "         linestyle = 'None',\n",
        "         markerfacecolor='#28E937')\n",
        "#plotting a graph with those 100 numbers from the set we made with the symbol o and the color code #28E937 for the green."
      ],
      "metadata": {
        "colab": {
          "base_uri": "https://localhost:8080/",
          "height": 282
        },
        "id": "WEVYt4Rf938z",
        "outputId": "cbf38d69-ae75-4708-8e46-4152482cd8f1"
      },
      "execution_count": null,
      "outputs": [
        {
          "output_type": "execute_result",
          "data": {
            "text/plain": [
              "[<matplotlib.lines.Line2D at 0x7fc23213f410>]"
            ]
          },
          "metadata": {},
          "execution_count": 86
        },
        {
          "output_type": "display_data",
          "data": {
            "text/plain": [
              "<Figure size 432x288 with 1 Axes>"
            ],
            "image/png": "[encoded data removed]"
          },
          "metadata": {
            "needs_background": "light"
          }
        }
      ]
    },
    {
      "cell_type": "code",
      "source": [
        "plt.plot(x,y,marker = 'o',linestyle = 'None',markerfacecolor='#E83272')\n",
        "# same thing as the graph above but all we did was change the color code into #E83272 for that purple."
      ],
      "metadata": {
        "colab": {
          "base_uri": "https://localhost:8080/",
          "height": 282
        },
        "id": "qlAeWfB2-dhe",
        "outputId": "a722f3ea-b2c3-4ae9-9025-8f9eefc0cbbc"
      },
      "execution_count": null,
      "outputs": [
        {
          "output_type": "execute_result",
          "data": {
            "text/plain": [
              "[<matplotlib.lines.Line2D at 0x7fc232116d10>]"
            ]
          },
          "metadata": {},
          "execution_count": 87
        },
        {
          "output_type": "display_data",
          "data": {
            "text/plain": [
              "<Figure size 432x288 with 1 Axes>"
            ],
            "image/png": "[encoded data removed]"
          },
          "metadata": {
            "needs_background": "light"
          }
        }
      ]
    },
    {
      "cell_type": "code",
      "source": [
        "plt.plot(x,y,marker = 'o',linestyle = 'None',markerfacecolor='#E8E832')\n",
        "plt.title(\"My First Graph\");\n",
        "# now we are changing the color code and we added a title to the graph."
      ],
      "metadata": {
        "colab": {
          "base_uri": "https://localhost:8080/",
          "height": 281
        },
        "id": "AlYPKZ8G-drM",
        "outputId": "d8f0dfd0-53b3-4d72-985a-e1eb57d0d0e8"
      },
      "execution_count": null,
      "outputs": [
        {
          "output_type": "display_data",
          "data": {
            "text/plain": [
              "<Figure size 432x288 with 1 Axes>"
            ],
            "image/png": "[encoded data removed]"
          },
          "metadata": {
            "needs_background": "light"
          }
        }
      ]
    },
    {
      "cell_type": "code",
      "source": [
        "plt.plot(x,y,marker = 'o',linestyle = 'None',markerfacecolor='#E83272')\n",
        "plt.title(\"My First Graph\");\n",
        "plt.xlabel(\"X axis label goes here\")\n",
        "plt.ylabel(\"Y axis label goes here\")\n",
        "# adding a title as well as labels on the side of the graph that say 'X axis goes here' and 'Y axis goes here'"
      ],
      "metadata": {
        "colab": {
          "base_uri": "https://localhost:8080/",
          "height": 312
        },
        "id": "r81N1wGk-duU",
        "outputId": "5ac53b71-0ae8-47cc-c949-b5e8f28a4672"
      },
      "execution_count": null,
      "outputs": [
        {
          "output_type": "execute_result",
          "data": {
            "text/plain": [
              "Text(0, 0.5, 'Y axis label goes here')"
            ]
          },
          "metadata": {},
          "execution_count": 89
        },
        {
          "output_type": "display_data",
          "data": {
            "text/plain": [
              "<Figure size 432x288 with 1 Axes>"
            ],
            "image/png": "[encoded data removed]"
          },
          "metadata": {
            "needs_background": "light"
          }
        }
      ]
    },
    {
      "cell_type": "code",
      "source": [
        "plt.plot(x,y,marker = 'o',linestyle = 'None',markerfacecolor='#E83272',label = \"Graph of x squared\")\n",
        "plt.title(\"My First Graph\");\n",
        "plt.xlabel(\"X axis label goes here\")\n",
        "plt.ylabel(\"Y axis label goes here\")\n",
        "plt.legend()\n",
        "# we did the same plot again but this time we added a legend to help th reader understand what each one of those dots mean."
      ],
      "metadata": {
        "colab": {
          "base_uri": "https://localhost:8080/",
          "height": 312
        },
        "id": "qPnqKyxV-dxE",
        "outputId": "66225b8a-6c17-46b1-9a94-4a14eec6b730"
      },
      "execution_count": null,
      "outputs": [
        {
          "output_type": "execute_result",
          "data": {
            "text/plain": [
              "<matplotlib.legend.Legend at 0x7fc231f9df50>"
            ]
          },
          "metadata": {},
          "execution_count": 90
        },
        {
          "output_type": "display_data",
          "data": {
            "text/plain": [
              "<Figure size 432x288 with 1 Axes>"
            ],
            "image/png": "[encoded data removed]"
          },
          "metadata": {
            "needs_background": "light"
          }
        }
      ]
    },
    {
      "cell_type": "code",
      "source": [
        "x = np.linspace(0,2,100)\n",
        "plt.plot(x,x, label=\"linear\")\n",
        "plt.plot(x,x**2, label=\"squared\")\n",
        "plt.plot(x,x**3, label=\"cubed\")\n",
        "plt.legend()\n",
        "# we are changing what the starting and ending number is and we are making each line a different color. the first line is regular, nothing special about it.\n",
        "# line number two we are raising it to the second power. and line number 3 we are raising to the third power."
      ],
      "metadata": {
        "colab": {
          "base_uri": "https://localhost:8080/",
          "height": 282
        },
        "id": "F8Pt353c-dzs",
        "outputId": "aa982817-1cee-4ec8-e79e-4fb6103b0dd5"
      },
      "execution_count": null,
      "outputs": [
        {
          "output_type": "execute_result",
          "data": {
            "text/plain": [
              "<matplotlib.legend.Legend at 0x7fc231f66650>"
            ]
          },
          "metadata": {},
          "execution_count": 91
        },
        {
          "output_type": "display_data",
          "data": {
            "text/plain": [
              "<Figure size 432x288 with 1 Axes>"
            ],
            "image/png": "[encoded data removed]"
          },
          "metadata": {
            "needs_background": "light"
          }
        }
      ]
    },
    {
      "cell_type": "code",
      "source": [
        "x = np.linspace(0,2,100)\n",
        "plt.plot(x,x, 'r--', label=\"linear\")\n",
        "plt.plot(x,x**2,'bs', label=\"squared\")\n",
        "plt.plot(x,x**3,'g^', label=\"cubed\")\n",
        "plt.legend()\n",
        "# same plot as the one above but I changed the color of each line to red, blue, and green, and I changed the symbol representing each line."
      ],
      "metadata": {
        "colab": {
          "base_uri": "https://localhost:8080/",
          "height": 282
        },
        "id": "uwudllT9-d2r",
        "outputId": "7e986093-6639-4a8b-9bfd-ae95dc837ade"
      },
      "execution_count": null,
      "outputs": [
        {
          "output_type": "execute_result",
          "data": {
            "text/plain": [
              "<matplotlib.legend.Legend at 0x7fc231e94850>"
            ]
          },
          "metadata": {},
          "execution_count": 92
        },
        {
          "output_type": "display_data",
          "data": {
            "text/plain": [
              "<Figure size 432x288 with 1 Axes>"
            ],
            "image/png": "[encoded data removed]"
          },
          "metadata": {
            "needs_background": "light"
          }
        }
      ]
    },
    {
      "cell_type": "code",
      "source": [
        "names = ['cats','dog','bird']\n",
        "# we are assigning names to equal cats , dog, and bird."
      ],
      "metadata": {
        "id": "84_GtYMI-d58"
      },
      "execution_count": null,
      "outputs": []
    },
    {
      "cell_type": "code",
      "source": [
        "names\n",
        "# just showing what names means and how the code pulls it out and represents it."
      ],
      "metadata": {
        "colab": {
          "base_uri": "https://localhost:8080/"
        },
        "id": "mzludZ6t-d8V",
        "outputId": "4a038c29-8870-4d75-98ab-6c008577bdf3"
      },
      "execution_count": null,
      "outputs": [
        {
          "output_type": "execute_result",
          "data": {
            "text/plain": [
              "['cats', 'dog', 'bird']"
            ]
          },
          "metadata": {},
          "execution_count": 94
        }
      ]
    },
    {
      "cell_type": "code",
      "source": [
        "names[0]\n",
        "# we don't start with 1 we start with name 0 which is cats."
      ],
      "metadata": {
        "colab": {
          "base_uri": "https://localhost:8080/",
          "height": 35
        },
        "id": "eqXdaVof-d-U",
        "outputId": "53ff9f25-08c6-48fd-9d8f-e3309c07a760"
      },
      "execution_count": null,
      "outputs": [
        {
          "output_type": "execute_result",
          "data": {
            "text/plain": [
              "'cats'"
            ],
            "application/vnd.google.colaboratory.intrinsic+json": {
              "type": "string"
            }
          },
          "metadata": {},
          "execution_count": 95
        }
      ]
    },
    {
      "cell_type": "code",
      "source": [
        "names[1]\n",
        "# name 1 is dog."
      ],
      "metadata": {
        "colab": {
          "base_uri": "https://localhost:8080/",
          "height": 35
        },
        "id": "sWoh9mSEE0DH",
        "outputId": "7d96d55c-edee-40ad-ad19-6d4807377c4b"
      },
      "execution_count": null,
      "outputs": [
        {
          "output_type": "execute_result",
          "data": {
            "text/plain": [
              "'dog'"
            ],
            "application/vnd.google.colaboratory.intrinsic+json": {
              "type": "string"
            }
          },
          "metadata": {},
          "execution_count": 96
        }
      ]
    },
    {
      "cell_type": "code",
      "source": [
        "names[2]\n",
        "# name 2 is bird."
      ],
      "metadata": {
        "colab": {
          "base_uri": "https://localhost:8080/",
          "height": 35
        },
        "id": "SgJLfOEHE0GG",
        "outputId": "522123e4-8851-4d50-e95b-93d7e69e93b8"
      },
      "execution_count": null,
      "outputs": [
        {
          "output_type": "execute_result",
          "data": {
            "text/plain": [
              "'bird'"
            ],
            "application/vnd.google.colaboratory.intrinsic+json": {
              "type": "string"
            }
          },
          "metadata": {},
          "execution_count": 97
        }
      ]
    },
    {
      "cell_type": "code",
      "source": [
        "values=[15,18,6]\n",
        "# we are assigning the word values to equal these 3 values."
      ],
      "metadata": {
        "id": "4GFGpJFsE0Im"
      },
      "execution_count": null,
      "outputs": []
    },
    {
      "cell_type": "code",
      "source": [
        "values\n",
        "#  just showing what values means and how the code pulls it out and represents it."
      ],
      "metadata": {
        "colab": {
          "base_uri": "https://localhost:8080/"
        },
        "id": "dZdx2CigE0K2",
        "outputId": "d0b18cba-40ae-40b6-fbe9-973525f130a0"
      },
      "execution_count": null,
      "outputs": [
        {
          "output_type": "execute_result",
          "data": {
            "text/plain": [
              "[15, 18, 6]"
            ]
          },
          "metadata": {},
          "execution_count": 99
        }
      ]
    },
    {
      "cell_type": "code",
      "source": [
        "plt.figure(1,figsize=(10,10))\n",
        "\n",
        "plt.subplot(1,3,1)\n",
        "plt.bar(names,values)\n",
        "\n",
        "plt.subplot(1,3,2)\n",
        "plt.scatter(names,values)\n",
        "\n",
        "plt.subplot(1,3,3)\n",
        "plt.plot(names,values)\n",
        "# with this we are saying that we want each plot to be 10 by 10\n",
        "# the first plot is a bar plot \n",
        "# second plot is a scatter plot.\n",
        "# third plot is a line graph."
      ],
      "metadata": {
        "colab": {
          "base_uri": "https://localhost:8080/",
          "height": 609
        },
        "id": "3-FkGvZrE0Ne",
        "outputId": "df26ace1-39d0-4754-f8dd-399090507e0f"
      },
      "execution_count": null,
      "outputs": [
        {
          "output_type": "execute_result",
          "data": {
            "text/plain": [
              "[<matplotlib.lines.Line2D at 0x7fc231f44a10>]"
            ]
          },
          "metadata": {},
          "execution_count": 100
        },
        {
          "output_type": "display_data",
          "data": {
            "text/plain": [
              "<Figure size 720x720 with 3 Axes>"
            ],
            "image/png": "[encoded data removed]"
          },
          "metadata": {
            "needs_background": "light"
          }
        }
      ]
    },
    {
      "cell_type": "code",
      "source": [
        "plt.figure(1,figsize=(3,3))\n",
        "\n",
        "plt.subplot(2,2,1)\n",
        "plt.bar(names,values)\n",
        "\n",
        "plt.subplot(2,2,2)\n",
        "plt.scatter(names,values)\n",
        "\n",
        "plt.subplot(2,2,3)\n",
        "plt.plot(names,values)\n",
        "\n",
        "plt.subplot(2,2,4)\n",
        "plt.plot(names,values)\n",
        "# we are saying that we want each plot 3 by 3. each plot is the same as above just smaller. \n",
        "# number 1 is still a bar grapgh.\n",
        "# number 2 is still a scatter plot.\n",
        "# number 3 is still a line graph.\n",
        "# we have added a fourth plot and its a line plot, same as number 3."
      ],
      "metadata": {
        "colab": {
          "base_uri": "https://localhost:8080/",
          "height": 228
        },
        "id": "FYfmFr_qE0P3",
        "outputId": "e35e67ff-bf4d-4a56-ab2f-fd27ad98e374"
      },
      "execution_count": null,
      "outputs": [
        {
          "output_type": "execute_result",
          "data": {
            "text/plain": [
              "[<matplotlib.lines.Line2D at 0x7fc231c7c190>]"
            ]
          },
          "metadata": {},
          "execution_count": 101
        },
        {
          "output_type": "display_data",
          "data": {
            "text/plain": [
              "<Figure size 216x216 with 4 Axes>"
            ],
            "image/png": "[encoded data removed]"
          },
          "metadata": {
            "needs_background": "light"
          }
        }
      ]
    },
    {
      "cell_type": "code",
      "source": [],
      "metadata": {
        "id": "h22vXtvrFBi1"
      },
      "execution_count": null,
      "outputs": []
    },
    {
      "cell_type": "markdown",
      "source": [
        "#Exercises"
      ],
      "metadata": {
        "id": "hvh2lBK3d4nF"
      }
    },
    {
      "cell_type": "code",
      "source": [
        "import numpy as np\n",
        "import matplotlib.pyplot as plt\n",
        "\n",
        "\n",
        "fig = plt.figure()\n",
        "x = np.arange(10)\n",
        "y = 2.5 * np.sin(x / 20 * np.pi)\n",
        "yerr = np.linspace(0.05, 0.2, 10)\n",
        "\n",
        "plt.errorbar(x, y + 3, yerr=yerr, label='both limits (default)')\n",
        "\n",
        "plt.errorbar(x, y + 2, yerr=yerr, uplims=True, label='uplims=True')\n",
        "\n",
        "plt.errorbar(x, y + 1, yerr=yerr, uplims=True, lolims=True,\n",
        "             label='uplims=True, lolims=True')\n",
        "\n",
        "upperlimits = [True, False] * 5\n",
        "lowerlimits = [False, True] * 5\n",
        "plt.errorbar(x, y, yerr=yerr, uplims=upperlimits, lolims=lowerlimits,\n",
        "             label='subsets of uplims and lolims')\n",
        "\n",
        "plt.legend(loc='lower right')"
      ],
      "metadata": {
        "colab": {
          "base_uri": "https://localhost:8080/",
          "height": 282
        },
        "id": "zy8rEXt7ezJF",
        "outputId": "1b248de9-ff65-4594-a192-10666c58bdd0"
      },
      "execution_count": null,
      "outputs": [
        {
          "output_type": "execute_result",
          "data": {
            "text/plain": [
              "<matplotlib.legend.Legend at 0x7f6c9d2c7790>"
            ]
          },
          "metadata": {},
          "execution_count": 1
        },
        {
          "output_type": "display_data",
          "data": {
            "text/plain": [
              "<Figure size 432x288 with 1 Axes>"
            ],
            "image/png": "[encoded data removed]"
          },
          "metadata": {
            "needs_background": "light"
          }
        }
      ]
    },
    {
      "cell_type": "code",
      "source": [
        "import numpy as np\n",
        "import matplotlib.pyplot as plt"
      ],
      "metadata": {
        "id": "0DeUR-rWezMO"
      },
      "execution_count": null,
      "outputs": []
    },
    {
      "cell_type": "code",
      "source": [
        "np.linspace(-10,10,1000)"
      ],
      "metadata": {
        "colab": {
          "base_uri": "https://localhost:8080/"
        },
        "id": "B8_hdpTDXTE0",
        "outputId": "9fce59cd-c37d-41ee-9c97-de500ca7382b"
      },
      "execution_count": null,
      "outputs": [
        {
          "output_type": "execute_result",
          "data": {
            "text/plain": [
              "array([-10.        ,  -9.97997998,  -9.95995996,  -9.93993994,\n",
              "        -9.91991992,  -9.8998999 ,  -9.87987988,  -9.85985986,\n",
              "        -9.83983984,  -9.81981982,  -9.7997998 ,  -9.77977978,\n",
              "        -9.75975976,  -9.73973974,  -9.71971972,  -9.6996997 ,\n",
              "        -9.67967968,  -9.65965966,  -9.63963964,  -9.61961962,\n",
              "        -9.5995996 ,  -9.57957958,  -9.55955956,  -9.53953954,\n",
              "        -9.51951952,  -9.4994995 ,  -9.47947948,  -9.45945946,\n",
              "        -9.43943944,  -9.41941942,  -9.3993994 ,  -9.37937938,\n",
              "        -9.35935936,  -9.33933934,  -9.31931932,  -9.2992993 ,\n",
              "        -9.27927928,  -9.25925926,  -9.23923924,  -9.21921922,\n",
              "        -9.1991992 ,  -9.17917918,  -9.15915916,  -9.13913914,\n",
              "        -9.11911912,  -9.0990991 ,  -9.07907908,  -9.05905906,\n",
              "        -9.03903904,  -9.01901902,  -8.998999  ,  -8.97897898,\n",
              "        -8.95895896,  -8.93893894,  -8.91891892,  -8.8988989 ,\n",
              "        -8.87887888,  -8.85885886,  -8.83883884,  -8.81881882,\n",
              "        -8.7987988 ,  -8.77877878,  -8.75875876,  -8.73873874,\n",
              "        -8.71871872,  -8.6986987 ,  -8.67867868,  -8.65865866,\n",
              "        -8.63863864,  -8.61861862,  -8.5985986 ,  -8.57857858,\n",
              "        -8.55855856,  -8.53853854,  -8.51851852,  -8.4984985 ,\n",
              "        -8.47847848,  -8.45845846,  -8.43843844,  -8.41841842,\n",
              "        -8.3983984 ,  -8.37837838,  -8.35835836,  -8.33833834,\n",
              "        -8.31831832,  -8.2982983 ,  -8.27827828,  -8.25825826,\n",
              "        -8.23823824,  -8.21821822,  -8.1981982 ,  -8.17817818,\n",
              "        -8.15815816,  -8.13813814,  -8.11811812,  -8.0980981 ,\n",
              "        -8.07807808,  -8.05805806,  -8.03803804,  -8.01801802,\n",
              "        -7.997998  ,  -7.97797798,  -7.95795796,  -7.93793794,\n",
              "        -7.91791792,  -7.8978979 ,  -7.87787788,  -7.85785786,\n",
              "        -7.83783784,  -7.81781782,  -7.7977978 ,  -7.77777778,\n",
              "        -7.75775776,  -7.73773774,  -7.71771772,  -7.6976977 ,\n",
              "        -7.67767768,  -7.65765766,  -7.63763764,  -7.61761762,\n",
              "        -7.5975976 ,  -7.57757758,  -7.55755756,  -7.53753754,\n",
              "        -7.51751752,  -7.4974975 ,  -7.47747748,  -7.45745746,\n",
              "        -7.43743744,  -7.41741742,  -7.3973974 ,  -7.37737738,\n",
              "        -7.35735736,  -7.33733734,  -7.31731732,  -7.2972973 ,\n",
              "        -7.27727728,  -7.25725726,  -7.23723724,  -7.21721722,\n",
              "        -7.1971972 ,  -7.17717718,  -7.15715716,  -7.13713714,\n",
              "        -7.11711712,  -7.0970971 ,  -7.07707708,  -7.05705706,\n",
              "        -7.03703704,  -7.01701702,  -6.996997  ,  -6.97697698,\n",
              "        -6.95695696,  -6.93693694,  -6.91691692,  -6.8968969 ,\n",
              "        -6.87687688,  -6.85685686,  -6.83683684,  -6.81681682,\n",
              "        -6.7967968 ,  -6.77677678,  -6.75675676,  -6.73673674,\n",
              "        -6.71671672,  -6.6966967 ,  -6.67667668,  -6.65665666,\n",
              "        -6.63663664,  -6.61661662,  -6.5965966 ,  -6.57657658,\n",
              "        -6.55655656,  -6.53653654,  -6.51651652,  -6.4964965 ,\n",
              "        -6.47647648,  -6.45645646,  -6.43643644,  -6.41641642,\n",
              "        -6.3963964 ,  -6.37637638,  -6.35635636,  -6.33633634,\n",
              "        -6.31631632,  -6.2962963 ,  -6.27627628,  -6.25625626,\n",
              "        -6.23623624,  -6.21621622,  -6.1961962 ,  -6.17617618,\n",
              "        -6.15615616,  -6.13613614,  -6.11611612,  -6.0960961 ,\n",
              "        -6.07607608,  -6.05605606,  -6.03603604,  -6.01601602,\n",
              "        -5.995996  ,  -5.97597598,  -5.95595596,  -5.93593594,\n",
              "        -5.91591592,  -5.8958959 ,  -5.87587588,  -5.85585586,\n",
              "        -5.83583584,  -5.81581582,  -5.7957958 ,  -5.77577578,\n",
              "        -5.75575576,  -5.73573574,  -5.71571572,  -5.6956957 ,\n",
              "        -5.67567568,  -5.65565566,  -5.63563564,  -5.61561562,\n",
              "        -5.5955956 ,  -5.57557558,  -5.55555556,  -5.53553554,\n",
              "        -5.51551552,  -5.4954955 ,  -5.47547548,  -5.45545546,\n",
              "        -5.43543544,  -5.41541542,  -5.3953954 ,  -5.37537538,\n",
              "        -5.35535536,  -5.33533534,  -5.31531532,  -5.2952953 ,\n",
              "        -5.27527528,  -5.25525526,  -5.23523524,  -5.21521522,\n",
              "        -5.1951952 ,  -5.17517518,  -5.15515516,  -5.13513514,\n",
              "        -5.11511512,  -5.0950951 ,  -5.07507508,  -5.05505506,\n",
              "        -5.03503504,  -5.01501502,  -4.99499499,  -4.97497497,\n",
              "        -4.95495495,  -4.93493493,  -4.91491491,  -4.89489489,\n",
              "        -4.87487487,  -4.85485485,  -4.83483483,  -4.81481481,\n",
              "        -4.79479479,  -4.77477477,  -4.75475475,  -4.73473473,\n",
              "        -4.71471471,  -4.69469469,  -4.67467467,  -4.65465465,\n",
              "        -4.63463463,  -4.61461461,  -4.59459459,  -4.57457457,\n",
              "        -4.55455455,  -4.53453453,  -4.51451451,  -4.49449449,\n",
              "        -4.47447447,  -4.45445445,  -4.43443443,  -4.41441441,\n",
              "        -4.39439439,  -4.37437437,  -4.35435435,  -4.33433433,\n",
              "        -4.31431431,  -4.29429429,  -4.27427427,  -4.25425425,\n",
              "        -4.23423423,  -4.21421421,  -4.19419419,  -4.17417417,\n",
              "        -4.15415415,  -4.13413413,  -4.11411411,  -4.09409409,\n",
              "        -4.07407407,  -4.05405405,  -4.03403403,  -4.01401401,\n",
              "        -3.99399399,  -3.97397397,  -3.95395395,  -3.93393393,\n",
              "        -3.91391391,  -3.89389389,  -3.87387387,  -3.85385385,\n",
              "        -3.83383383,  -3.81381381,  -3.79379379,  -3.77377377,\n",
              "        -3.75375375,  -3.73373373,  -3.71371371,  -3.69369369,\n",
              "        -3.67367367,  -3.65365365,  -3.63363363,  -3.61361361,\n",
              "        -3.59359359,  -3.57357357,  -3.55355355,  -3.53353353,\n",
              "        -3.51351351,  -3.49349349,  -3.47347347,  -3.45345345,\n",
              "        -3.43343343,  -3.41341341,  -3.39339339,  -3.37337337,\n",
              "        -3.35335335,  -3.33333333,  -3.31331331,  -3.29329329,\n",
              "        -3.27327327,  -3.25325325,  -3.23323323,  -3.21321321,\n",
              "        -3.19319319,  -3.17317317,  -3.15315315,  -3.13313313,\n",
              "        -3.11311311,  -3.09309309,  -3.07307307,  -3.05305305,\n",
              "        -3.03303303,  -3.01301301,  -2.99299299,  -2.97297297,\n",
              "        -2.95295295,  -2.93293293,  -2.91291291,  -2.89289289,\n",
              "        -2.87287287,  -2.85285285,  -2.83283283,  -2.81281281,\n",
              "        -2.79279279,  -2.77277277,  -2.75275275,  -2.73273273,\n",
              "        -2.71271271,  -2.69269269,  -2.67267267,  -2.65265265,\n",
              "        -2.63263263,  -2.61261261,  -2.59259259,  -2.57257257,\n",
              "        -2.55255255,  -2.53253253,  -2.51251251,  -2.49249249,\n",
              "        -2.47247247,  -2.45245245,  -2.43243243,  -2.41241241,\n",
              "        -2.39239239,  -2.37237237,  -2.35235235,  -2.33233233,\n",
              "        -2.31231231,  -2.29229229,  -2.27227227,  -2.25225225,\n",
              "        -2.23223223,  -2.21221221,  -2.19219219,  -2.17217217,\n",
              "        -2.15215215,  -2.13213213,  -2.11211211,  -2.09209209,\n",
              "        -2.07207207,  -2.05205205,  -2.03203203,  -2.01201201,\n",
              "        -1.99199199,  -1.97197197,  -1.95195195,  -1.93193193,\n",
              "        -1.91191191,  -1.89189189,  -1.87187187,  -1.85185185,\n",
              "        -1.83183183,  -1.81181181,  -1.79179179,  -1.77177177,\n",
              "        -1.75175175,  -1.73173173,  -1.71171171,  -1.69169169,\n",
              "        -1.67167167,  -1.65165165,  -1.63163163,  -1.61161161,\n",
              "        -1.59159159,  -1.57157157,  -1.55155155,  -1.53153153,\n",
              "        -1.51151151,  -1.49149149,  -1.47147147,  -1.45145145,\n",
              "        -1.43143143,  -1.41141141,  -1.39139139,  -1.37137137,\n",
              "        -1.35135135,  -1.33133133,  -1.31131131,  -1.29129129,\n",
              "        -1.27127127,  -1.25125125,  -1.23123123,  -1.21121121,\n",
              "        -1.19119119,  -1.17117117,  -1.15115115,  -1.13113113,\n",
              "        -1.11111111,  -1.09109109,  -1.07107107,  -1.05105105,\n",
              "        -1.03103103,  -1.01101101,  -0.99099099,  -0.97097097,\n",
              "        -0.95095095,  -0.93093093,  -0.91091091,  -0.89089089,\n",
              "        -0.87087087,  -0.85085085,  -0.83083083,  -0.81081081,\n",
              "        -0.79079079,  -0.77077077,  -0.75075075,  -0.73073073,\n",
              "        -0.71071071,  -0.69069069,  -0.67067067,  -0.65065065,\n",
              "        -0.63063063,  -0.61061061,  -0.59059059,  -0.57057057,\n",
              "        -0.55055055,  -0.53053053,  -0.51051051,  -0.49049049,\n",
              "        -0.47047047,  -0.45045045,  -0.43043043,  -0.41041041,\n",
              "        -0.39039039,  -0.37037037,  -0.35035035,  -0.33033033,\n",
              "        -0.31031031,  -0.29029029,  -0.27027027,  -0.25025025,\n",
              "        -0.23023023,  -0.21021021,  -0.19019019,  -0.17017017,\n",
              "        -0.15015015,  -0.13013013,  -0.11011011,  -0.09009009,\n",
              "        -0.07007007,  -0.05005005,  -0.03003003,  -0.01001001,\n",
              "         0.01001001,   0.03003003,   0.05005005,   0.07007007,\n",
              "         0.09009009,   0.11011011,   0.13013013,   0.15015015,\n",
              "         0.17017017,   0.19019019,   0.21021021,   0.23023023,\n",
              "         0.25025025,   0.27027027,   0.29029029,   0.31031031,\n",
              "         0.33033033,   0.35035035,   0.37037037,   0.39039039,\n",
              "         0.41041041,   0.43043043,   0.45045045,   0.47047047,\n",
              "         0.49049049,   0.51051051,   0.53053053,   0.55055055,\n",
              "         0.57057057,   0.59059059,   0.61061061,   0.63063063,\n",
              "         0.65065065,   0.67067067,   0.69069069,   0.71071071,\n",
              "         0.73073073,   0.75075075,   0.77077077,   0.79079079,\n",
              "         0.81081081,   0.83083083,   0.85085085,   0.87087087,\n",
              "         0.89089089,   0.91091091,   0.93093093,   0.95095095,\n",
              "         0.97097097,   0.99099099,   1.01101101,   1.03103103,\n",
              "         1.05105105,   1.07107107,   1.09109109,   1.11111111,\n",
              "         1.13113113,   1.15115115,   1.17117117,   1.19119119,\n",
              "         1.21121121,   1.23123123,   1.25125125,   1.27127127,\n",
              "         1.29129129,   1.31131131,   1.33133133,   1.35135135,\n",
              "         1.37137137,   1.39139139,   1.41141141,   1.43143143,\n",
              "         1.45145145,   1.47147147,   1.49149149,   1.51151151,\n",
              "         1.53153153,   1.55155155,   1.57157157,   1.59159159,\n",
              "         1.61161161,   1.63163163,   1.65165165,   1.67167167,\n",
              "         1.69169169,   1.71171171,   1.73173173,   1.75175175,\n",
              "         1.77177177,   1.79179179,   1.81181181,   1.83183183,\n",
              "         1.85185185,   1.87187187,   1.89189189,   1.91191191,\n",
              "         1.93193193,   1.95195195,   1.97197197,   1.99199199,\n",
              "         2.01201201,   2.03203203,   2.05205205,   2.07207207,\n",
              "         2.09209209,   2.11211211,   2.13213213,   2.15215215,\n",
              "         2.17217217,   2.19219219,   2.21221221,   2.23223223,\n",
              "         2.25225225,   2.27227227,   2.29229229,   2.31231231,\n",
              "         2.33233233,   2.35235235,   2.37237237,   2.39239239,\n",
              "         2.41241241,   2.43243243,   2.45245245,   2.47247247,\n",
              "         2.49249249,   2.51251251,   2.53253253,   2.55255255,\n",
              "         2.57257257,   2.59259259,   2.61261261,   2.63263263,\n",
              "         2.65265265,   2.67267267,   2.69269269,   2.71271271,\n",
              "         2.73273273,   2.75275275,   2.77277277,   2.79279279,\n",
              "         2.81281281,   2.83283283,   2.85285285,   2.87287287,\n",
              "         2.89289289,   2.91291291,   2.93293293,   2.95295295,\n",
              "         2.97297297,   2.99299299,   3.01301301,   3.03303303,\n",
              "         3.05305305,   3.07307307,   3.09309309,   3.11311311,\n",
              "         3.13313313,   3.15315315,   3.17317317,   3.19319319,\n",
              "         3.21321321,   3.23323323,   3.25325325,   3.27327327,\n",
              "         3.29329329,   3.31331331,   3.33333333,   3.35335335,\n",
              "         3.37337337,   3.39339339,   3.41341341,   3.43343343,\n",
              "         3.45345345,   3.47347347,   3.49349349,   3.51351351,\n",
              "         3.53353353,   3.55355355,   3.57357357,   3.59359359,\n",
              "         3.61361361,   3.63363363,   3.65365365,   3.67367367,\n",
              "         3.69369369,   3.71371371,   3.73373373,   3.75375375,\n",
              "         3.77377377,   3.79379379,   3.81381381,   3.83383383,\n",
              "         3.85385385,   3.87387387,   3.89389389,   3.91391391,\n",
              "         3.93393393,   3.95395395,   3.97397397,   3.99399399,\n",
              "         4.01401401,   4.03403403,   4.05405405,   4.07407407,\n",
              "         4.09409409,   4.11411411,   4.13413413,   4.15415415,\n",
              "         4.17417417,   4.19419419,   4.21421421,   4.23423423,\n",
              "         4.25425425,   4.27427427,   4.29429429,   4.31431431,\n",
              "         4.33433433,   4.35435435,   4.37437437,   4.39439439,\n",
              "         4.41441441,   4.43443443,   4.45445445,   4.47447447,\n",
              "         4.49449449,   4.51451451,   4.53453453,   4.55455455,\n",
              "         4.57457457,   4.59459459,   4.61461461,   4.63463463,\n",
              "         4.65465465,   4.67467467,   4.69469469,   4.71471471,\n",
              "         4.73473473,   4.75475475,   4.77477477,   4.79479479,\n",
              "         4.81481481,   4.83483483,   4.85485485,   4.87487487,\n",
              "         4.89489489,   4.91491491,   4.93493493,   4.95495495,\n",
              "         4.97497497,   4.99499499,   5.01501502,   5.03503504,\n",
              "         5.05505506,   5.07507508,   5.0950951 ,   5.11511512,\n",
              "         5.13513514,   5.15515516,   5.17517518,   5.1951952 ,\n",
              "         5.21521522,   5.23523524,   5.25525526,   5.27527528,\n",
              "         5.2952953 ,   5.31531532,   5.33533534,   5.35535536,\n",
              "         5.37537538,   5.3953954 ,   5.41541542,   5.43543544,\n",
              "         5.45545546,   5.47547548,   5.4954955 ,   5.51551552,\n",
              "         5.53553554,   5.55555556,   5.57557558,   5.5955956 ,\n",
              "         5.61561562,   5.63563564,   5.65565566,   5.67567568,\n",
              "         5.6956957 ,   5.71571572,   5.73573574,   5.75575576,\n",
              "         5.77577578,   5.7957958 ,   5.81581582,   5.83583584,\n",
              "         5.85585586,   5.87587588,   5.8958959 ,   5.91591592,\n",
              "         5.93593594,   5.95595596,   5.97597598,   5.995996  ,\n",
              "         6.01601602,   6.03603604,   6.05605606,   6.07607608,\n",
              "         6.0960961 ,   6.11611612,   6.13613614,   6.15615616,\n",
              "         6.17617618,   6.1961962 ,   6.21621622,   6.23623624,\n",
              "         6.25625626,   6.27627628,   6.2962963 ,   6.31631632,\n",
              "         6.33633634,   6.35635636,   6.37637638,   6.3963964 ,\n",
              "         6.41641642,   6.43643644,   6.45645646,   6.47647648,\n",
              "         6.4964965 ,   6.51651652,   6.53653654,   6.55655656,\n",
              "         6.57657658,   6.5965966 ,   6.61661662,   6.63663664,\n",
              "         6.65665666,   6.67667668,   6.6966967 ,   6.71671672,\n",
              "         6.73673674,   6.75675676,   6.77677678,   6.7967968 ,\n",
              "         6.81681682,   6.83683684,   6.85685686,   6.87687688,\n",
              "         6.8968969 ,   6.91691692,   6.93693694,   6.95695696,\n",
              "         6.97697698,   6.996997  ,   7.01701702,   7.03703704,\n",
              "         7.05705706,   7.07707708,   7.0970971 ,   7.11711712,\n",
              "         7.13713714,   7.15715716,   7.17717718,   7.1971972 ,\n",
              "         7.21721722,   7.23723724,   7.25725726,   7.27727728,\n",
              "         7.2972973 ,   7.31731732,   7.33733734,   7.35735736,\n",
              "         7.37737738,   7.3973974 ,   7.41741742,   7.43743744,\n",
              "         7.45745746,   7.47747748,   7.4974975 ,   7.51751752,\n",
              "         7.53753754,   7.55755756,   7.57757758,   7.5975976 ,\n",
              "         7.61761762,   7.63763764,   7.65765766,   7.67767768,\n",
              "         7.6976977 ,   7.71771772,   7.73773774,   7.75775776,\n",
              "         7.77777778,   7.7977978 ,   7.81781782,   7.83783784,\n",
              "         7.85785786,   7.87787788,   7.8978979 ,   7.91791792,\n",
              "         7.93793794,   7.95795796,   7.97797798,   7.997998  ,\n",
              "         8.01801802,   8.03803804,   8.05805806,   8.07807808,\n",
              "         8.0980981 ,   8.11811812,   8.13813814,   8.15815816,\n",
              "         8.17817818,   8.1981982 ,   8.21821822,   8.23823824,\n",
              "         8.25825826,   8.27827828,   8.2982983 ,   8.31831832,\n",
              "         8.33833834,   8.35835836,   8.37837838,   8.3983984 ,\n",
              "         8.41841842,   8.43843844,   8.45845846,   8.47847848,\n",
              "         8.4984985 ,   8.51851852,   8.53853854,   8.55855856,\n",
              "         8.57857858,   8.5985986 ,   8.61861862,   8.63863864,\n",
              "         8.65865866,   8.67867868,   8.6986987 ,   8.71871872,\n",
              "         8.73873874,   8.75875876,   8.77877878,   8.7987988 ,\n",
              "         8.81881882,   8.83883884,   8.85885886,   8.87887888,\n",
              "         8.8988989 ,   8.91891892,   8.93893894,   8.95895896,\n",
              "         8.97897898,   8.998999  ,   9.01901902,   9.03903904,\n",
              "         9.05905906,   9.07907908,   9.0990991 ,   9.11911912,\n",
              "         9.13913914,   9.15915916,   9.17917918,   9.1991992 ,\n",
              "         9.21921922,   9.23923924,   9.25925926,   9.27927928,\n",
              "         9.2992993 ,   9.31931932,   9.33933934,   9.35935936,\n",
              "         9.37937938,   9.3993994 ,   9.41941942,   9.43943944,\n",
              "         9.45945946,   9.47947948,   9.4994995 ,   9.51951952,\n",
              "         9.53953954,   9.55955956,   9.57957958,   9.5995996 ,\n",
              "         9.61961962,   9.63963964,   9.65965966,   9.67967968,\n",
              "         9.6996997 ,   9.71971972,   9.73973974,   9.75975976,\n",
              "         9.77977978,   9.7997998 ,   9.81981982,   9.83983984,\n",
              "         9.85985986,   9.87987988,   9.8998999 ,   9.91991992,\n",
              "         9.93993994,   9.95995996,   9.97997998,  10.        ])"
            ]
          },
          "metadata": {},
          "execution_count": 29
        }
      ]
    },
    {
      "cell_type": "code",
      "source": [
        "x = np.linspace(-10,10,1000)"
      ],
      "metadata": {
        "id": "re4g_WzzbZpc"
      },
      "execution_count": null,
      "outputs": []
    },
    {
      "cell_type": "code",
      "source": [
        "x"
      ],
      "metadata": {
        "colab": {
          "base_uri": "https://localhost:8080/"
        },
        "id": "SoWN0rpCezPU",
        "outputId": "00be7abd-b935-4485-8871-d17f740a5110"
      },
      "execution_count": null,
      "outputs": [
        {
          "output_type": "execute_result",
          "data": {
            "text/plain": [
              "array([-10,  -9,  -8,  -7,  -6,  -5,  -4,  -3,  -2,  -1,   0,   1,   2,\n",
              "         3,   4,   5,   6,   7,   8,   9])"
            ]
          },
          "metadata": {},
          "execution_count": 39
        }
      ]
    },
    {
      "cell_type": "code",
      "source": [
        "y = 10*x + 7 "
      ],
      "metadata": {
        "id": "INBMgcm4ezSV"
      },
      "execution_count": null,
      "outputs": []
    },
    {
      "cell_type": "code",
      "source": [
        "y"
      ],
      "metadata": {
        "colab": {
          "base_uri": "https://localhost:8080/"
        },
        "id": "DkVtWzrIYJqO",
        "outputId": "e22e8e7a-b106-40c1-f997-d80c7417bb47"
      },
      "execution_count": null,
      "outputs": [
        {
          "output_type": "execute_result",
          "data": {
            "text/plain": [
              "array([-93, -83, -73, -63, -53, -43, -33, -23, -13,  -3,   7,  17,  27,\n",
              "        37,  47,  57,  67,  77,  87,  97])"
            ]
          },
          "metadata": {},
          "execution_count": 41
        }
      ]
    },
    {
      "cell_type": "code",
      "source": [
        "import numpy as np\n",
        "import matplotlib.pyplot as plt\n",
        "x = np.arange(-10,10)\n",
        "y = 10*x + 7\n",
        "\n",
        "plt.plot(x,y)\n",
        "plt.title(\"Grapgh of y = 10*x + 7\")\n",
        "\n",
        "plt.show()"
      ],
      "metadata": {
        "colab": {
          "base_uri": "https://localhost:8080/",
          "height": 281
        },
        "id": "UNwfuUV5ezU-",
        "outputId": "53914a69-7604-46ba-c89c-4cf6525da047"
      },
      "execution_count": null,
      "outputs": [
        {
          "output_type": "display_data",
          "data": {
            "text/plain": [
              "<Figure size 432x288 with 1 Axes>"
            ],
            "image/png": "[encoded data removed]"
          },
          "metadata": {
            "needs_background": "light"
          }
        }
      ]
    },
    {
      "cell_type": "code",
      "source": [
        "y = -3*x - 12"
      ],
      "metadata": {
        "id": "gmYktBIiezXx"
      },
      "execution_count": null,
      "outputs": []
    },
    {
      "cell_type": "code",
      "source": [
        "y"
      ],
      "metadata": {
        "colab": {
          "base_uri": "https://localhost:8080/"
        },
        "id": "wIGFNskvYecL",
        "outputId": "288cb3be-1e71-4e64-c103-d46d57a93c12"
      },
      "execution_count": null,
      "outputs": [
        {
          "output_type": "execute_result",
          "data": {
            "text/plain": [
              "array([ 18,  15,  12,   9,   6,   3,   0,  -3,  -6,  -9, -12, -15, -18,\n",
              "       -21, -24, -27, -30, -33, -36, -39])"
            ]
          },
          "metadata": {},
          "execution_count": 44
        }
      ]
    },
    {
      "cell_type": "code",
      "source": [
        "import numpy as np\n",
        "import matplotlib.pyplot as plt\n",
        "x = np.arange(-10,10)\n",
        "y = -3*x - 12\n",
        "\n",
        "plt.plot(x,y)\n",
        "plt.title(\"Grapgh of y = -3*x - 12\")\n",
        "\n",
        "plt.show()"
      ],
      "metadata": {
        "colab": {
          "base_uri": "https://localhost:8080/",
          "height": 281
        },
        "id": "H05TrzbcezZh",
        "outputId": "2bf41cb9-3e32-4232-dcfd-87cb7499c04e"
      },
      "execution_count": null,
      "outputs": [
        {
          "output_type": "display_data",
          "data": {
            "text/plain": [
              "<Figure size 432x288 with 1 Axes>"
            ],
            "image/png": "[encoded data removed]"
          },
          "metadata": {
            "needs_background": "light"
          }
        }
      ]
    },
    {
      "cell_type": "code",
      "source": [
        "y = np.sin(x)"
      ],
      "metadata": {
        "id": "D21hUfYmjv9I"
      },
      "execution_count": null,
      "outputs": []
    },
    {
      "cell_type": "code",
      "source": [
        "import numpy as np\n",
        "import matplotlib.pyplot as plt\n",
        "x = np.arange(-10,10)\n",
        "y = np.sin(x)\n",
        "\n",
        "plt.plot(x,y)\n",
        "plt.title(\"Grapgh of y = np.sin(x)\")\n",
        "\n",
        "plt.show()"
      ],
      "metadata": {
        "colab": {
          "base_uri": "https://localhost:8080/",
          "height": 281
        },
        "id": "GG12ej6SnQZr",
        "outputId": "c92f33fd-4e92-439a-f763-9db7a30cfed2"
      },
      "execution_count": null,
      "outputs": [
        {
          "output_type": "display_data",
          "data": {
            "text/plain": [
              "<Figure size 432x288 with 1 Axes>"
            ],
            "image/png": "[encoded data removed]"
          },
          "metadata": {
            "needs_background": "light"
          }
        }
      ]
    },
    {
      "cell_type": "code",
      "source": [
        "y = np.e**x"
      ],
      "metadata": {
        "id": "PdGl5h89jwCZ"
      },
      "execution_count": null,
      "outputs": []
    },
    {
      "cell_type": "code",
      "source": [
        "import numpy as np\n",
        "import matplotlib.pyplot as plt\n",
        "x = np.arange(-10,10)\n",
        "y = np.e**x\n",
        "\n",
        "plt.plot(x,y)\n",
        "plt.title(\"Grapgh of $y = np.e^x$\")\n",
        "\n",
        "plt.show()"
      ],
      "metadata": {
        "colab": {
          "base_uri": "https://localhost:8080/",
          "height": 283
        },
        "id": "W4z802H_nlyX",
        "outputId": "cda15d49-ca5f-4eef-fc1c-9f9061445487"
      },
      "execution_count": null,
      "outputs": [
        {
          "output_type": "display_data",
          "data": {
            "text/plain": [
              "<Figure size 432x288 with 1 Axes>"
            ],
            "image/png": "[encoded data removed]"
          },
          "metadata": {
            "needs_background": "light"
          }
        }
      ]
    },
    {
      "cell_type": "code",
      "source": [
        "np.exp(-x**2)"
      ],
      "metadata": {
        "colab": {
          "base_uri": "https://localhost:8080/"
        },
        "id": "PXJ0m-s2jwFB",
        "outputId": "fa34d24f-db7c-4be0-bc01-3fd49c30b7de"
      },
      "execution_count": null,
      "outputs": [
        {
          "output_type": "execute_result",
          "data": {
            "text/plain": [
              "array([3.72007598e-44, 6.63967720e-36, 1.60381089e-28, 5.24288566e-22,\n",
              "       2.31952283e-16, 1.38879439e-11, 1.12535175e-07, 1.23409804e-04,\n",
              "       1.83156389e-02, 3.67879441e-01, 1.00000000e+00, 3.67879441e-01,\n",
              "       1.83156389e-02, 1.23409804e-04, 1.12535175e-07, 1.38879439e-11,\n",
              "       2.31952283e-16, 5.24288566e-22, 1.60381089e-28, 6.63967720e-36])"
            ]
          },
          "metadata": {},
          "execution_count": 13
        }
      ]
    },
    {
      "cell_type": "code",
      "source": [
        "import numpy as np\n",
        "import matplotlib.pyplot as plt\n",
        "x = np.arange(-10,10)\n",
        "y = np.exp(-x**2)\n",
        "\n",
        "plt.plot(x,y)\n",
        "plt.title(\"Grapgh of y = np.exp(-x**2)\")\n",
        "\n",
        "plt.show()"
      ],
      "metadata": {
        "colab": {
          "base_uri": "https://localhost:8080/",
          "height": 281
        },
        "id": "phLSlvQFjwHn",
        "outputId": "e2b3f2b0-9b07-4b58-ba94-d4b9d7db4823"
      },
      "execution_count": null,
      "outputs": [
        {
          "output_type": "display_data",
          "data": {
            "text/plain": [
              "<Figure size 432x288 with 1 Axes>"
            ],
            "image/png": "[encoded data removed]"
          },
          "metadata": {
            "needs_background": "light"
          }
        }
      ]
    }
  ]
}